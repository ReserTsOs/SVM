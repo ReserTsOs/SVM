{
 "cells": [
  {
   "cell_type": "markdown",
   "id": "4c22cedc",
   "metadata": {},
   "source": [
    "用いたデータ：統計科学研究所 成績csv\\\n",
    "https://statistics.co.jp/reference/statistical_data/statistical_data.htm"
   ]
  },
  {
   "cell_type": "code",
   "execution_count": 1,
   "id": "012de8ce",
   "metadata": {},
   "outputs": [],
   "source": [
    "import numpy as np\n",
    "import pandas as pd\n",
    "import matplotlib.pyplot as plt\n",
    "import seaborn as sns\n",
    "from sklearn.cluster import KMeans\n",
    "from sklearn.model_selection import train_test_split\n",
    "seiseki = pd.read_csv(\"seiseki.csv\")"
   ]
  },
  {
   "cell_type": "markdown",
   "id": "88acc5c9",
   "metadata": {},
   "source": [
    "### k-meansでクラスタリング\n",
    "分類問題を扱いため、k-meansでクラスタリングする。"
   ]
  },
  {
   "cell_type": "code",
   "execution_count": 3,
   "id": "7b9b8994",
   "metadata": {},
   "outputs": [],
   "source": [
    "### クラスター数 n_cluster = 2で kmeans定義する\n",
    "kmeans = KMeans(n_clusters=2,random_state=0)\n",
    "\n",
    "### k-meansを適応する\n",
    "kmeans.fit(seiseki)\n",
    "\n",
    "### 実際にk-means実行\n",
    "cluster = kmeans.predict(seiseki)\n",
    "\n",
    "### クラスター番号を元のデータに追加する\n",
    "seiseki_cluster = seiseki.copy()\n",
    "seiseki_cluster[\"cluster\"] = cluster"
   ]
  },
  {
   "cell_type": "markdown",
   "id": "e271df77",
   "metadata": {},
   "source": [
    "### データの分割 \n",
    "テストデータ；学習データ = 3：7"
   ]
  },
  {
   "cell_type": "code",
   "execution_count": 4,
   "id": "cd3de2c5",
   "metadata": {},
   "outputs": [],
   "source": [
    "x = seiseki\n",
    "t = seiseki_cluster[\"cluster\"]\n",
    "x_train,x_test,t_train,t_test = train_test_split(x,t,\n",
    "                                                 test_size=0.3,\n",
    "                                                 random_state=0)"
   ]
  },
  {
   "cell_type": "markdown",
   "id": "55dc31eb",
   "metadata": {},
   "source": [
    "### SVM(サポートベクトルマシン)を実装"
   ]
  },
  {
   "cell_type": "code",
   "execution_count": 13,
   "id": "5fc13d9b",
   "metadata": {},
   "outputs": [],
   "source": [
    "### 必要なモジュールをインポートする\n",
    "from sklearn.svm import SVC\n",
    "\n",
    "### サポートベクトルを定義\n",
    "model = SVC()\n",
    "\n",
    "### サポートベクトルを適応する\n",
    "model.fit(x_train,t_train)\n",
    "\n",
    "### サポートベクトルで予測する\n",
    "t_pred = model.predict(x_test)"
   ]
  },
  {
   "cell_type": "markdown",
   "id": "4b08cd27",
   "metadata": {},
   "source": [
    "### 精度評価\n",
    "1, 正解率\\\n",
    "2, 混合行列(confusion matrix)\\\n",
    "3, 適合率(precision)\\\n",
    "4, 再現率(recall)"
   ]
  },
  {
   "cell_type": "code",
   "execution_count": 15,
   "id": "fbe865d0",
   "metadata": {},
   "outputs": [
    {
     "name": "stdout",
     "output_type": "stream",
     "text": [
      "accuracy =  0.96\n",
      "confusion matrix = \n",
      " [[20  1]\n",
      " [ 1 28]]\n",
      "precision =  0.9655172413793104\n",
      "recall =  0.9655172413793104\n"
     ]
    }
   ],
   "source": [
    "### 必要なライブラリ,メソッドをインポートする\n",
    "from sklearn.metrics import confusion_matrix, accuracy_score, precision_score, recall_score, f1_score\n",
    "\n",
    "### 1,正解率\n",
    "print('accuracy = ',\n",
    "      accuracy_score(t_test, t_pred))\n",
    "### 2,混合行列\n",
    "print('confusion matrix = \\n',\n",
    "      confusion_matrix(t_test,t_pred))\n",
    "\n",
    "### 3,適合率\n",
    "print('precision = ',\n",
    "      precision_score(t_test, t_pred))\n",
    "\n",
    "### 4,再現率\n",
    "print('recall = ', recall_score(t_test, t_pred))"
   ]
  },
  {
   "cell_type": "code",
   "execution_count": null,
   "id": "b63b68cf",
   "metadata": {},
   "outputs": [],
   "source": []
  },
  {
   "cell_type": "markdown",
   "id": "a7624b37",
   "metadata": {},
   "source": [
    "### 標準化後のデータでSVMを実装する。\n",
    "SVMは、距離の概念を用いて分類を行う。\\\n",
    "よって、各カラム(軸)の値の規模・スケールが同じでないと本来はいけない。\\\n",
    "→ 標準化が必須"
   ]
  },
  {
   "cell_type": "markdown",
   "id": "1da7de5e",
   "metadata": {},
   "source": [
    "### 標準化する"
   ]
  },
  {
   "cell_type": "code",
   "execution_count": 31,
   "id": "f282d941",
   "metadata": {},
   "outputs": [],
   "source": [
    "### 必要なライブラリ,メソッドをインポートする\n",
    "from sklearn.preprocessing import StandardScaler\n",
    "sc = StandardScaler()\n",
    "x_std = sc.fit_transform(x)"
   ]
  },
  {
   "cell_type": "code",
   "execution_count": 32,
   "id": "d4338881",
   "metadata": {},
   "outputs": [],
   "source": [
    "x_train_std,x_test_std,t_train,t_test = train_test_split(x_std,t,\n",
    "                                                 test_size=0.3,\n",
    "                                                 random_state=0)"
   ]
  },
  {
   "cell_type": "code",
   "execution_count": 33,
   "id": "b044f9e5",
   "metadata": {},
   "outputs": [],
   "source": [
    "model_std = SVC()\n",
    "model_std.fit(x_train_std,t_train)\n",
    "t_pred_std = model.predict(x_test_std)"
   ]
  },
  {
   "cell_type": "code",
   "execution_count": 34,
   "id": "1db6d88b",
   "metadata": {},
   "outputs": [
    {
     "name": "stdout",
     "output_type": "stream",
     "text": [
      "accuracy =  0.58\n",
      "confusion matrix = \n",
      " [[ 0 21]\n",
      " [ 0 29]]\n",
      "precision =  0.58\n",
      "recall =  1.0\n"
     ]
    }
   ],
   "source": [
    "### 必要なライブラリ,メソッドをインポートする\n",
    "from sklearn.metrics import confusion_matrix, accuracy_score, precision_score, recall_score, f1_score\n",
    "\n",
    "### 1,正解率\n",
    "print('accuracy = ',\n",
    "      accuracy_score(t_test, t_pred_std))\n",
    "### 2,混合行列\n",
    "print('confusion matrix = \\n',\n",
    "      confusion_matrix(t_test,t_pred_std))\n",
    "\n",
    "### 3,適合率\n",
    "print('precision = ',\n",
    "      precision_score(t_test, t_pred_std))\n",
    "\n",
    "### 4,再現率\n",
    "print('recall = ', recall_score(t_test, t_pred_std))"
   ]
  },
  {
   "cell_type": "code",
   "execution_count": null,
   "id": "d8271850",
   "metadata": {},
   "outputs": [],
   "source": []
  },
  {
   "cell_type": "code",
   "execution_count": null,
   "id": "1dbdf1e8",
   "metadata": {},
   "outputs": [],
   "source": []
  }
 ],
 "metadata": {
  "kernelspec": {
   "display_name": "Python 3",
   "language": "python",
   "name": "python3"
  },
  "language_info": {
   "codemirror_mode": {
    "name": "ipython",
    "version": 3
   },
   "file_extension": ".py",
   "mimetype": "text/x-python",
   "name": "python",
   "nbconvert_exporter": "python",
   "pygments_lexer": "ipython3",
   "version": "3.8.8"
  }
 },
 "nbformat": 4,
 "nbformat_minor": 5
}
